{
 "cells": [
  {
   "cell_type": "code",
   "execution_count": 2,
   "metadata": {},
   "outputs": [
    {
     "data": {
      "text/html": [
       "<div>\n",
       "<style scoped>\n",
       "    .dataframe tbody tr th:only-of-type {\n",
       "        vertical-align: middle;\n",
       "    }\n",
       "\n",
       "    .dataframe tbody tr th {\n",
       "        vertical-align: top;\n",
       "    }\n",
       "\n",
       "    .dataframe thead th {\n",
       "        text-align: right;\n",
       "    }\n",
       "</style>\n",
       "<table border=\"1\" class=\"dataframe\">\n",
       "  <thead>\n",
       "    <tr style=\"text-align: right;\">\n",
       "      <th></th>\n",
       "      <th>path</th>\n",
       "      <th>label</th>\n",
       "    </tr>\n",
       "  </thead>\n",
       "  <tbody>\n",
       "  </tbody>\n",
       "</table>\n",
       "</div>"
      ],
      "text/plain": [
       "Empty DataFrame\n",
       "Columns: [path, label]\n",
       "Index: []"
      ]
     },
     "execution_count": 2,
     "metadata": {},
     "output_type": "execute_result"
    }
   ],
   "source": [
    "import pandas as pd\n",
    "\n",
    "data = pd.DataFrame(columns=[\"path\", \"label\"])\n",
    "data.head()"
   ]
  },
  {
   "cell_type": "code",
   "execution_count": 3,
   "metadata": {},
   "outputs": [],
   "source": [
    "import os\n",
    "\n",
    "for (root, dirs, files) in os.walk(\"./CK+48\", topdown=True):    \n",
    "    try:\n",
    "        label = root.split(\"/\")[2]\n",
    "\n",
    "        for file in files:\n",
    "            path = root+'/'+file\n",
    "            values = pd.DataFrame([[path, label]], columns=[\"path\", \"label\"])\n",
    "            data = pd.concat([data, values], axis=0)\n",
    "    except IndexError:\n",
    "        pass\n",
    "\n",
    "    "
   ]
  },
  {
   "cell_type": "code",
   "execution_count": 4,
   "metadata": {},
   "outputs": [
    {
     "data": {
      "text/plain": [
       "(981, 2)"
      ]
     },
     "execution_count": 4,
     "metadata": {},
     "output_type": "execute_result"
    }
   ],
   "source": [
    "data.shape"
   ]
  },
  {
   "cell_type": "code",
   "execution_count": 5,
   "metadata": {},
   "outputs": [],
   "source": [
    "from PIL import Image\n",
    "import numpy as np\n",
    "import matplotlib.pyplot as plt\n",
    "\n",
    "def getImageData(path):\n",
    "    try:\n",
    "        image = Image.open(path)\n",
    "        image = np.array(image)\n",
    "        return image\n",
    "    except FileNotFoundError:\n",
    "        print(\"File not found\")"
   ]
  },
  {
   "cell_type": "code",
   "execution_count": 6,
   "metadata": {},
   "outputs": [],
   "source": [
    "from sklearn.model_selection import train_test_split\n",
    "\n",
    "X = np.empty(shape=(1,48,48,1))\n",
    "y = data['label']\n",
    "\n",
    "for v in np.array(data.iloc[:,0]):\n",
    "    im = getImageData(v)\n",
    "    im = im.reshape(1,48,48,1)\n",
    "    X = np.append(X, im, axis=0)\n",
    "\n",
    "X = X[1:]\n",
    "\n",
    "from sklearn.preprocessing import LabelEncoder\n",
    "le = LabelEncoder()\n",
    "y = le.fit_transform(y)\n",
    "\n",
    "b = np.zeros((y.size, y.max()+1))\n",
    "b[np.arange(y.size), y] = 1\n",
    "\n",
    "X_train, X_test, y_train, y_test = train_test_split(X,b, test_size=0.2, random_state=0)"
   ]
  },
  {
   "cell_type": "code",
   "execution_count": 14,
   "metadata": {},
   "outputs": [],
   "source": [
    "from tensorflow.keras import Sequential\n",
    "from tensorflow.keras.layers import Dense, Conv2D, MaxPooling2D, Flatten, MaxPool2D\n",
    "\n",
    "cnn = Sequential([\n",
    "    Conv2D(filters=24,input_shape=[48,48,1], activation='relu', kernel_size=(3,3)),\n",
    "    MaxPooling2D(pool_size=(2,2), strides=2),\n",
    "    Conv2D(filters=36, activation='relu', kernel_size=3),\n",
    "    MaxPooling2D(pool_size=2, strides=2),\n",
    "    Flatten(),\n",
    "    Dense(32, activation=\"relu\"),\n",
    "    Dense(7, activation=\"softmax\")\n",
    "])\n",
    "\n",
    "cnn.compile(optimizer=\"adam\", loss=\"categorical_crossentropy\", metrics=['accuracy'])"
   ]
  },
  {
   "cell_type": "code",
   "execution_count": 15,
   "metadata": {},
   "outputs": [
    {
     "name": "stdout",
     "output_type": "stream",
     "text": [
      "Model: \"sequential_2\"\n",
      "_________________________________________________________________\n",
      " Layer (type)                Output Shape              Param #   \n",
      "=================================================================\n",
      " conv2d_4 (Conv2D)           (None, 46, 46, 24)        240       \n",
      "                                                                 \n",
      " max_pooling2d_4 (MaxPooling  (None, 23, 23, 24)       0         \n",
      " 2D)                                                             \n",
      "                                                                 \n",
      " conv2d_5 (Conv2D)           (None, 21, 21, 36)        7812      \n",
      "                                                                 \n",
      " max_pooling2d_5 (MaxPooling  (None, 10, 10, 36)       0         \n",
      " 2D)                                                             \n",
      "                                                                 \n",
      " flatten_2 (Flatten)         (None, 3600)              0         \n",
      "                                                                 \n",
      " dense_4 (Dense)             (None, 32)                115232    \n",
      "                                                                 \n",
      " dense_5 (Dense)             (None, 7)                 231       \n",
      "                                                                 \n",
      "=================================================================\n",
      "Total params: 123,515\n",
      "Trainable params: 123,515\n",
      "Non-trainable params: 0\n",
      "_________________________________________________________________\n"
     ]
    }
   ],
   "source": [
    "cnn.summary()"
   ]
  },
  {
   "cell_type": "code",
   "execution_count": 16,
   "metadata": {},
   "outputs": [
    {
     "name": "stdout",
     "output_type": "stream",
     "text": [
      "Epoch 1/100\n"
     ]
    },
    {
     "name": "stderr",
     "output_type": "stream",
     "text": [
      "2023-01-12 13:29:35.790111: I tensorflow/core/grappler/optimizers/custom_graph_optimizer_registry.cc:113] Plugin optimizer for device_type GPU is enabled.\n"
     ]
    },
    {
     "name": "stdout",
     "output_type": "stream",
     "text": [
      "25/25 [==============================] - 1s 17ms/step - loss: 14.4641 - accuracy: 0.2296\n",
      "Epoch 2/100\n",
      "25/25 [==============================] - 0s 15ms/step - loss: 1.3443 - accuracy: 0.5395\n",
      "Epoch 3/100\n",
      "25/25 [==============================] - 0s 14ms/step - loss: 0.8000 - accuracy: 0.7270\n",
      "Epoch 4/100\n",
      "25/25 [==============================] - 0s 15ms/step - loss: 0.3923 - accuracy: 0.8763\n",
      "Epoch 5/100\n",
      "25/25 [==============================] - 0s 14ms/step - loss: 0.2772 - accuracy: 0.9120\n",
      "Epoch 6/100\n",
      "25/25 [==============================] - 0s 14ms/step - loss: 0.1127 - accuracy: 0.9732\n",
      "Epoch 7/100\n",
      "25/25 [==============================] - 0s 15ms/step - loss: 0.0622 - accuracy: 0.9911\n",
      "Epoch 8/100\n",
      "25/25 [==============================] - 0s 15ms/step - loss: 0.0385 - accuracy: 0.9949\n",
      "Epoch 9/100\n",
      "25/25 [==============================] - 0s 15ms/step - loss: 0.0218 - accuracy: 1.0000\n",
      "Epoch 10/100\n",
      "25/25 [==============================] - 0s 14ms/step - loss: 0.0218 - accuracy: 0.9962\n",
      "Epoch 11/100\n",
      "25/25 [==============================] - 0s 14ms/step - loss: 0.0105 - accuracy: 1.0000\n",
      "Epoch 12/100\n",
      "25/25 [==============================] - 0s 14ms/step - loss: 0.0057 - accuracy: 1.0000\n",
      "Epoch 13/100\n",
      "25/25 [==============================] - 0s 14ms/step - loss: 0.0043 - accuracy: 1.0000\n",
      "Epoch 14/100\n",
      "25/25 [==============================] - 0s 14ms/step - loss: 0.0027 - accuracy: 1.0000\n",
      "Epoch 15/100\n",
      "25/25 [==============================] - 0s 14ms/step - loss: 0.0020 - accuracy: 1.0000\n",
      "Epoch 16/100\n",
      "25/25 [==============================] - 0s 14ms/step - loss: 0.0016 - accuracy: 1.0000\n",
      "Epoch 17/100\n",
      "25/25 [==============================] - 0s 14ms/step - loss: 0.0014 - accuracy: 1.0000\n",
      "Epoch 18/100\n",
      "25/25 [==============================] - 0s 14ms/step - loss: 0.0012 - accuracy: 1.0000\n",
      "Epoch 19/100\n",
      "25/25 [==============================] - 0s 14ms/step - loss: 0.0010 - accuracy: 1.0000\n",
      "Epoch 20/100\n",
      "25/25 [==============================] - 0s 14ms/step - loss: 9.3206e-04 - accuracy: 1.0000\n",
      "Epoch 21/100\n",
      "25/25 [==============================] - 0s 14ms/step - loss: 8.3416e-04 - accuracy: 1.0000\n",
      "Epoch 22/100\n",
      "25/25 [==============================] - 0s 14ms/step - loss: 7.4091e-04 - accuracy: 1.0000\n",
      "Epoch 23/100\n",
      "25/25 [==============================] - 0s 14ms/step - loss: 6.8597e-04 - accuracy: 1.0000\n",
      "Epoch 24/100\n",
      "25/25 [==============================] - 0s 14ms/step - loss: 6.0649e-04 - accuracy: 1.0000\n",
      "Epoch 25/100\n",
      "25/25 [==============================] - 0s 14ms/step - loss: 5.5122e-04 - accuracy: 1.0000\n",
      "Epoch 26/100\n",
      "25/25 [==============================] - 0s 14ms/step - loss: 5.0497e-04 - accuracy: 1.0000\n",
      "Epoch 27/100\n",
      "25/25 [==============================] - 0s 15ms/step - loss: 4.6523e-04 - accuracy: 1.0000\n",
      "Epoch 28/100\n",
      "25/25 [==============================] - 0s 14ms/step - loss: 4.2757e-04 - accuracy: 1.0000\n",
      "Epoch 29/100\n",
      "25/25 [==============================] - 0s 14ms/step - loss: 3.7699e-04 - accuracy: 1.0000\n",
      "Epoch 30/100\n",
      "25/25 [==============================] - 0s 14ms/step - loss: 3.4746e-04 - accuracy: 1.0000\n",
      "Epoch 31/100\n",
      "25/25 [==============================] - 0s 15ms/step - loss: 3.1863e-04 - accuracy: 1.0000\n",
      "Epoch 32/100\n",
      "25/25 [==============================] - 0s 14ms/step - loss: 2.9244e-04 - accuracy: 1.0000\n",
      "Epoch 33/100\n",
      "25/25 [==============================] - 0s 14ms/step - loss: 2.6261e-04 - accuracy: 1.0000\n",
      "Epoch 34/100\n",
      "25/25 [==============================] - 0s 14ms/step - loss: 2.3841e-04 - accuracy: 1.0000\n",
      "Epoch 35/100\n",
      "25/25 [==============================] - 0s 14ms/step - loss: 2.2076e-04 - accuracy: 1.0000\n",
      "Epoch 36/100\n",
      "25/25 [==============================] - 0s 14ms/step - loss: 2.0497e-04 - accuracy: 1.0000\n",
      "Epoch 37/100\n",
      "25/25 [==============================] - 0s 14ms/step - loss: 1.8747e-04 - accuracy: 1.0000\n",
      "Epoch 38/100\n",
      "25/25 [==============================] - 0s 14ms/step - loss: 1.7699e-04 - accuracy: 1.0000\n",
      "Epoch 39/100\n",
      "25/25 [==============================] - 0s 14ms/step - loss: 1.6159e-04 - accuracy: 1.0000\n",
      "Epoch 40/100\n",
      "25/25 [==============================] - 0s 14ms/step - loss: 1.4874e-04 - accuracy: 1.0000\n",
      "Epoch 41/100\n",
      "25/25 [==============================] - 0s 14ms/step - loss: 1.4197e-04 - accuracy: 1.0000\n",
      "Epoch 42/100\n",
      "25/25 [==============================] - 0s 14ms/step - loss: 1.2964e-04 - accuracy: 1.0000\n",
      "Epoch 43/100\n",
      "25/25 [==============================] - 0s 14ms/step - loss: 1.2086e-04 - accuracy: 1.0000\n",
      "Epoch 44/100\n",
      "25/25 [==============================] - 0s 14ms/step - loss: 1.1237e-04 - accuracy: 1.0000\n",
      "Epoch 45/100\n",
      "25/25 [==============================] - 0s 14ms/step - loss: 1.0413e-04 - accuracy: 1.0000\n",
      "Epoch 46/100\n",
      "25/25 [==============================] - 0s 14ms/step - loss: 9.7332e-05 - accuracy: 1.0000\n",
      "Epoch 47/100\n",
      "25/25 [==============================] - 0s 14ms/step - loss: 9.2338e-05 - accuracy: 1.0000\n",
      "Epoch 48/100\n",
      "25/25 [==============================] - 0s 14ms/step - loss: 8.5378e-05 - accuracy: 1.0000\n",
      "Epoch 49/100\n",
      "25/25 [==============================] - 0s 14ms/step - loss: 7.9853e-05 - accuracy: 1.0000\n",
      "Epoch 50/100\n",
      "25/25 [==============================] - 0s 14ms/step - loss: 7.4310e-05 - accuracy: 1.0000\n",
      "Epoch 51/100\n",
      "25/25 [==============================] - 0s 14ms/step - loss: 7.0230e-05 - accuracy: 1.0000\n",
      "Epoch 52/100\n",
      "25/25 [==============================] - 0s 14ms/step - loss: 6.5978e-05 - accuracy: 1.0000\n",
      "Epoch 53/100\n",
      "25/25 [==============================] - 0s 14ms/step - loss: 6.2571e-05 - accuracy: 1.0000\n",
      "Epoch 54/100\n",
      "25/25 [==============================] - 0s 14ms/step - loss: 5.8429e-05 - accuracy: 1.0000\n",
      "Epoch 55/100\n",
      "25/25 [==============================] - 0s 14ms/step - loss: 5.4554e-05 - accuracy: 1.0000\n",
      "Epoch 56/100\n",
      "25/25 [==============================] - 0s 14ms/step - loss: 5.2058e-05 - accuracy: 1.0000\n",
      "Epoch 57/100\n",
      "25/25 [==============================] - 0s 14ms/step - loss: 4.8715e-05 - accuracy: 1.0000\n",
      "Epoch 58/100\n",
      "25/25 [==============================] - 0s 14ms/step - loss: 4.7415e-05 - accuracy: 1.0000\n",
      "Epoch 59/100\n",
      "25/25 [==============================] - 0s 14ms/step - loss: 4.4512e-05 - accuracy: 1.0000\n",
      "Epoch 60/100\n",
      "25/25 [==============================] - 0s 14ms/step - loss: 4.1726e-05 - accuracy: 1.0000\n",
      "Epoch 61/100\n",
      "25/25 [==============================] - 0s 14ms/step - loss: 4.0034e-05 - accuracy: 1.0000\n",
      "Epoch 62/100\n",
      "25/25 [==============================] - 0s 14ms/step - loss: 3.8574e-05 - accuracy: 1.0000\n",
      "Epoch 63/100\n",
      "25/25 [==============================] - 0s 14ms/step - loss: 3.6108e-05 - accuracy: 1.0000\n",
      "Epoch 64/100\n",
      "25/25 [==============================] - 0s 14ms/step - loss: 3.4214e-05 - accuracy: 1.0000\n",
      "Epoch 65/100\n",
      "25/25 [==============================] - 0s 14ms/step - loss: 3.2456e-05 - accuracy: 1.0000\n",
      "Epoch 66/100\n",
      "25/25 [==============================] - 0s 14ms/step - loss: 3.0536e-05 - accuracy: 1.0000\n",
      "Epoch 67/100\n",
      "25/25 [==============================] - 0s 14ms/step - loss: 2.9224e-05 - accuracy: 1.0000\n",
      "Epoch 68/100\n",
      "25/25 [==============================] - 0s 14ms/step - loss: 2.8063e-05 - accuracy: 1.0000\n",
      "Epoch 69/100\n",
      "25/25 [==============================] - 0s 14ms/step - loss: 2.6441e-05 - accuracy: 1.0000\n",
      "Epoch 70/100\n",
      "25/25 [==============================] - 0s 14ms/step - loss: 2.5436e-05 - accuracy: 1.0000\n",
      "Epoch 71/100\n",
      "25/25 [==============================] - 0s 14ms/step - loss: 2.4193e-05 - accuracy: 1.0000\n",
      "Epoch 72/100\n",
      "25/25 [==============================] - 0s 14ms/step - loss: 2.2763e-05 - accuracy: 1.0000\n",
      "Epoch 73/100\n",
      "25/25 [==============================] - 0s 14ms/step - loss: 2.1818e-05 - accuracy: 1.0000\n",
      "Epoch 74/100\n",
      "25/25 [==============================] - 0s 14ms/step - loss: 2.0966e-05 - accuracy: 1.0000\n",
      "Epoch 75/100\n",
      "25/25 [==============================] - 0s 14ms/step - loss: 2.0242e-05 - accuracy: 1.0000\n",
      "Epoch 76/100\n",
      "25/25 [==============================] - 0s 14ms/step - loss: 1.9477e-05 - accuracy: 1.0000\n",
      "Epoch 77/100\n",
      "25/25 [==============================] - 0s 14ms/step - loss: 1.8350e-05 - accuracy: 1.0000\n",
      "Epoch 78/100\n",
      "25/25 [==============================] - 0s 14ms/step - loss: 1.7702e-05 - accuracy: 1.0000\n",
      "Epoch 79/100\n",
      "25/25 [==============================] - 0s 14ms/step - loss: 1.6989e-05 - accuracy: 1.0000\n",
      "Epoch 80/100\n",
      "25/25 [==============================] - 0s 14ms/step - loss: 1.6165e-05 - accuracy: 1.0000\n",
      "Epoch 81/100\n",
      "25/25 [==============================] - 0s 14ms/step - loss: 1.5605e-05 - accuracy: 1.0000\n",
      "Epoch 82/100\n",
      "25/25 [==============================] - 0s 14ms/step - loss: 1.4922e-05 - accuracy: 1.0000\n",
      "Epoch 83/100\n",
      "25/25 [==============================] - 0s 14ms/step - loss: 1.4417e-05 - accuracy: 1.0000\n",
      "Epoch 84/100\n",
      "25/25 [==============================] - 0s 14ms/step - loss: 1.3815e-05 - accuracy: 1.0000\n",
      "Epoch 85/100\n",
      "25/25 [==============================] - 0s 14ms/step - loss: 1.3172e-05 - accuracy: 1.0000\n",
      "Epoch 86/100\n",
      "25/25 [==============================] - 0s 14ms/step - loss: 1.2703e-05 - accuracy: 1.0000\n",
      "Epoch 87/100\n",
      "25/25 [==============================] - 0s 14ms/step - loss: 1.2310e-05 - accuracy: 1.0000\n",
      "Epoch 88/100\n",
      "25/25 [==============================] - 0s 14ms/step - loss: 1.1719e-05 - accuracy: 1.0000\n",
      "Epoch 89/100\n",
      "25/25 [==============================] - 0s 14ms/step - loss: 1.1205e-05 - accuracy: 1.0000\n",
      "Epoch 90/100\n",
      "25/25 [==============================] - 0s 14ms/step - loss: 1.1147e-05 - accuracy: 1.0000\n",
      "Epoch 91/100\n",
      "25/25 [==============================] - 0s 14ms/step - loss: 1.0394e-05 - accuracy: 1.0000\n",
      "Epoch 92/100\n",
      "25/25 [==============================] - 0s 14ms/step - loss: 1.0113e-05 - accuracy: 1.0000\n",
      "Epoch 93/100\n",
      "25/25 [==============================] - 0s 14ms/step - loss: 9.8225e-06 - accuracy: 1.0000\n",
      "Epoch 94/100\n",
      "25/25 [==============================] - 0s 14ms/step - loss: 9.3594e-06 - accuracy: 1.0000\n",
      "Epoch 95/100\n",
      "25/25 [==============================] - 0s 14ms/step - loss: 8.9951e-06 - accuracy: 1.0000\n",
      "Epoch 96/100\n",
      "25/25 [==============================] - 0s 14ms/step - loss: 8.7915e-06 - accuracy: 1.0000\n",
      "Epoch 97/100\n",
      "25/25 [==============================] - 0s 14ms/step - loss: 8.5022e-06 - accuracy: 1.0000\n",
      "Epoch 98/100\n",
      "25/25 [==============================] - 0s 14ms/step - loss: 8.1852e-06 - accuracy: 1.0000\n",
      "Epoch 99/100\n",
      "25/25 [==============================] - 0s 14ms/step - loss: 7.9920e-06 - accuracy: 1.0000\n",
      "Epoch 100/100\n",
      "25/25 [==============================] - 0s 14ms/step - loss: 7.7575e-06 - accuracy: 1.0000\n"
     ]
    },
    {
     "data": {
      "text/plain": [
       "<keras.callbacks.History at 0x2a5d8e3a0>"
      ]
     },
     "execution_count": 16,
     "metadata": {},
     "output_type": "execute_result"
    }
   ],
   "source": [
    "cnn.fit(X_train, y_train, epochs=100, batch_size=32)"
   ]
  },
  {
   "cell_type": "code",
   "execution_count": 19,
   "metadata": {},
   "outputs": [
    {
     "name": "stdout",
     "output_type": "stream",
     "text": [
      "1/7 [===>..........................] - ETA: 0s"
     ]
    },
    {
     "name": "stderr",
     "output_type": "stream",
     "text": [
      "2023-01-12 13:30:41.031184: I tensorflow/core/grappler/optimizers/custom_graph_optimizer_registry.cc:113] Plugin optimizer for device_type GPU is enabled.\n"
     ]
    },
    {
     "name": "stdout",
     "output_type": "stream",
     "text": [
      "7/7 [==============================] - 0s 35ms/step\n"
     ]
    }
   ],
   "source": [
    "y_pred = cnn.predict(X_test)"
   ]
  },
  {
   "cell_type": "code",
   "execution_count": 24,
   "metadata": {},
   "outputs": [
    {
     "data": {
      "text/plain": [
       "array(['anger', 'contempt', 'disgust', 'fear', 'happy', 'sadness',\n",
       "       'surprise'], dtype=object)"
      ]
     },
     "execution_count": 24,
     "metadata": {},
     "output_type": "execute_result"
    }
   ],
   "source": [
    "le.classes_"
   ]
  },
  {
   "cell_type": "code",
   "execution_count": 25,
   "metadata": {},
   "outputs": [],
   "source": [
    "labels = {0:'anger', 1:'contempt', 2:'disgust', 3:'fear', 4:'happy', 5:'sadness', 6:'suprise'}"
   ]
  },
  {
   "cell_type": "code",
   "execution_count": 32,
   "metadata": {},
   "outputs": [],
   "source": [
    "def test(index):\n",
    "    predict = np.argmax(y_pred[index])\n",
    "    actual = np.argmax(y_test[index])\n",
    "    print(f\"Actual: {labels[actual]}, Prediction: {labels[predict]}\")\n",
    "    plt.imshow(X_test[index], cmap='gray')"
   ]
  },
  {
   "cell_type": "code",
   "execution_count": 34,
   "metadata": {},
   "outputs": [
    {
     "name": "stdout",
     "output_type": "stream",
     "text": [
      "Actual: disgust, Prediction: disgust\n"
     ]
    },
    {
     "data": {
      "image/png": "[encoded data removed]",
      "text/plain": [
       "<Figure size 640x480 with 1 Axes>"
      ]
     },
     "metadata": {},
     "output_type": "display_data"
    }
   ],
   "source": [
    "test(69)"
   ]
  }
 ],
 "metadata": {
  "kernelspec": {
   "display_name": "tf_m1",
   "language": "python",
   "name": "python3"
  },
  "language_info": {
   "codemirror_mode": {
    "name": "ipython",
    "version": 3
   },
   "file_extension": ".py",
   "mimetype": "text/x-python",
   "name": "python",
   "nbconvert_exporter": "python",
   "pygments_lexer": "ipython3",
   "version": "3.8.15"
  },
  "orig_nbformat": 4,
  "vscode": {
   "interpreter": {
    "hash": "76ec954fbc50abaaeb5c2294e58a851bb4e97708bb34ae7d73d75d1d0a70a2a0"
   }
  }
 },
 "nbformat": 4,
 "nbformat_minor": 2
}
